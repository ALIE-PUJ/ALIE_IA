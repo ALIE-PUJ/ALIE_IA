{
 "cells": [
  {
   "cell_type": "markdown",
   "metadata": {},
   "source": [
    "Install LlamaIndex Libraries"
   ]
  },
  {
   "cell_type": "code",
   "execution_count": 2,
   "metadata": {},
   "outputs": [
    {
     "data": {
      "text/plain": [
       "'\\n%pip install llama-index-llms-openai pandas[jinja2] spacy\\n!pip install llama-index-llms-langchain\\n'"
      ]
     },
     "execution_count": 2,
     "metadata": {},
     "output_type": "execute_result"
    }
   ],
   "source": [
    "'''\n",
    "%pip install llama-index-llms-openai pandas[jinja2] spacy\n",
    "!pip install llama-index-llms-langchain\n",
    "'''"
   ]
  },
  {
   "cell_type": "code",
   "execution_count": 3,
   "metadata": {},
   "outputs": [],
   "source": [
    "from llama_index.core import (\n",
    "    SimpleDirectoryReader,\n",
    "    VectorStoreIndex,\n",
    "    Settings,\n",
    "    Response\n",
    ")\n",
    "from llama_index.core.evaluation import (\n",
    "    DatasetGenerator,\n",
    "    FaithfulnessEvaluator,\n",
    "    RelevancyEvaluator\n",
    ")\n",
    "from llama_index.llms.gemini import Gemini\n",
    "from llama_index.embeddings.huggingface import HuggingFaceEmbedding\n",
    "from llama_index.core import Settings\n",
    "\n",
    "from llama_index.core.evaluation import FaithfulnessEvaluator\n",
    "from llama_index.core.node_parser import SentenceSplitter\n",
    "\n",
    "import os\n",
    "import time\n",
    "import nest_asyncio\n",
    "\n",
    "import pandas as pd"
   ]
  },
  {
   "cell_type": "code",
   "execution_count": 16,
   "metadata": {},
   "outputs": [],
   "source": [
    "nest_asyncio.apply()\n",
    "pd.set_option(\"display.max_colwidth\", 0)"
   ]
  },
  {
   "cell_type": "markdown",
   "metadata": {},
   "source": [
    "Set up LLM for question generation"
   ]
  },
  {
   "cell_type": "code",
   "execution_count": 10,
   "metadata": {},
   "outputs": [],
   "source": [
    "# Definir el modelo local (LMStudio)\n",
    "from llama_index.llms.lmstudio import LMStudio\n",
    "\n",
    "llm = LMStudio(\n",
    "    model_name=\"SomeModel\",\n",
    "    base_url=\"http://localhost:1234/v1\",\n",
    "    temperature=0.7,)\n",
    "\n",
    "Settings.llm = llm\n",
    "Settings.embed_model = HuggingFaceEmbedding(model_name=\"BAAI/bge-small-en-v1.5\")"
   ]
  },
  {
   "cell_type": "code",
   "execution_count": 40,
   "metadata": {},
   "outputs": [
    {
     "name": "stdout",
     "output_type": "stream",
     "text": [
      "XXX\n"
     ]
    }
   ],
   "source": [
    "# Definir el modelo por API (Groq)\n",
    "\n",
    "# pip install llama-index-llms-groq\n",
    "from llama_index.llms.groq import Groq\n",
    "\n",
    "# Set up the Groq class with the required model and API key\n",
    "os.environ[\"GROQ_API_KEY\"] = \"XXX\" # Definir la API Key de Groq\n",
    "api_key = os.getenv(\"GROQ_API_KEY\", \"NotFound\") # Obtener la API Key de las variables de entorno\n",
    "print(api_key)\n",
    "\n",
    "llm = Groq(model=\"llama3-70b-8192\", api_key=api_key)"
   ]
  },
  {
   "cell_type": "markdown",
   "metadata": {},
   "source": [
    "Load the documents"
   ]
  },
  {
   "cell_type": "code",
   "execution_count": 31,
   "metadata": {},
   "outputs": [],
   "source": [
    "# Get an example document\n",
    "documents = SimpleDirectoryReader(input_files=[\"18_EstructurasDeDatos_4196.json\"]).load_data()\n",
    "Settings.embed_model = HuggingFaceEmbedding(model_name=\"BAAI/bge-small-en-v1.5\")\n",
    "Settings.llm = llm\n",
    "\n",
    "# Create a vector index\n",
    "splitter = SentenceSplitter(chunk_size=512)\n",
    "vector_index = VectorStoreIndex.from_documents(\n",
    "    documents, transformations=[splitter]\n",
    ")"
   ]
  },
  {
   "cell_type": "code",
   "execution_count": 36,
   "metadata": {},
   "outputs": [
    {
     "name": "stderr",
     "output_type": "stream",
     "text": [
      "c:\\Users\\Luis Alejandro\\AppData\\Local\\Programs\\Python\\Python310\\lib\\site-packages\\llama_index\\core\\evaluation\\dataset_generation.py:200: DeprecationWarning: Call to deprecated class DatasetGenerator. (Deprecated in favor of `RagDatasetGenerator` which should be used instead.)\n",
      "  return cls(\n"
     ]
    },
    {
     "name": "stdout",
     "output_type": "stream",
     "text": [
      "['Here are 10 questions based on the provided context information:', 'What is the title of the course described in the JSON file?', 'a) Estructuras de Datos', 'b) Programación Avanzada', 'c) Lógica y Matemáticas Discretas', 'd) Fundamentos de Matemáticas II', 'Answer: a) Estructuras de Datos', 'What is the code of the course described in the JSON file?', 'a) 001297', 'b) 4196', 'c) 2430', 'd) 2024', 'Answer: b) 4196', 'What is the number of credits for the course described in the JSON file?', 'a) 2', 'b) 3', 'c) 4', 'd) 5', 'Answer: b) 3', 'What is the access control type for the file described in the context information?', 'a) Público', 'b) Privado', 'c) Restringido', 'd) Confidencial', 'Answer: b) Privado', 'What is the last updated date mentioned in the JSON file?', 'a) 2024-08-20', 'b) 2024-08-21', 'c) 2024-08-25', 'd) 2024-08-30', 'Answer: a) 2024-08-20', 'What is the description of the course described in the JSON file?', 'a) En la mayoría de los ambientes reales de desarrollo de software se procesan grandes cantidades de información...', 'b) El curso utiliza clases magistrales interactivas, talleres guiados y trabajo en equipo para desarrollar un proyecto', 'c) El curso se centra en el estudio de las estructuras contenedoras de datos básicas y los algoritmos relacionados con ellas...', 'd) Todos los above', 'Answer: d) Todos los above', 'What is one of the objectives of the course described in the JSON file?', 'a) Presentar los principios básicos de la complejidad algorítmica como criterio de calidad de algoritmos', 'b) Brindar al estudiante las herramientas básicas para el diseño de tipos abstractos de datos', 'c) Mostrar estrategias de implementación de estructuras de datos y algoritmos asociados a ellas en un lenguaje de programación (C++)', 'd) All of the above', 'Answer: d) All of the above', 'What is one of the results of learning expected from the course described in the JSON file?', 'a) Explicar la complejidad de los algoritmos usando conceptos del cálculo asintótico y el impacto en el uso de recursos', 'b) Conocer estrategias para el diseño de algoritmos usando diferentes estructuras de datos', 'c) Aplicar estrategias para la implementación de algoritmos usando diferentes estructuras de datos', 'd) All of the above', 'Answer: d) All of the above', 'What is one of the thematic contents of the course described in the JSON file?', 'a) Bases de complejidad algorítmica', 'b) Estructuras lineales', 'c) Estructuras recurrentes', 'd) All of the above', 'Answer: d) All of the above', 'What is one of the pedagogical strategies used in the course described in the JSON file?', 'a) Aprendizaje directivo mediado mediante clases magistrales', 'b) Aprendizaje basado en problemas mediante talleres individuales', 'c) Aprendizaje por proyectos', 'd) All of the above', 'Answer: d) All of the above', 'Here are 10 diverse questions based on the provided context information:', '**Question 1**', 'What is the file type of the document \"18_EstructurasDeDatos_4196.json\"?', 'a) application/json', 'b) application/pdf', 'c) text/plain', 'd) image/jpeg', '**Answer**: a) application/json', '**Question 2**', 'What is the topic of the course described in the document?', 'a) Estrategias Pedagógicas', 'b) Estructuras De Datos', 'c) Algoritmos y Estructuras de Datos', 'd) Diseño y manejo de estructuras de datos', '**Answer**: b) Estructuras De Datos', '**Question 3**', 'How many estrategias pedagógicas are mentioned in the document?', 'a) 3', 'b) 4', 'c) 5', 'd) 6', '**Answer**: b) 4', '**Question 4**', 'What is the weightage of Parcial 1 in the evaluation strategy?', 'a) 10%', 'b) 15%', 'c) 20%', 'd) 25%', '**Answer**: b) 15%', '**Question 5**', 'Which of the following authors is NOT mentioned in the Recursos Bibliográficos section?', 'a) Nyhoff, L.R.', 'b) Weiss, M.A.', 'c) Joyanes Aguilar, L.', 'd) Shakespeare, W.', '**Answer**: d) Shakespeare, W.', '**Question 6**', 'What is the title of the book written by Villalobos, J.A.?', 'a) TADs, Estructuras de datos y resolución de problemas con C++', 'b) Data Structures and Algorithm analysis in C++', 'c) Diseño y manejo de estructuras de datos en C', 'd) Fundamentos de Algoritmia', '**Answer**: c) Diseño y manejo de estructuras de datos en C', '**Question 7**', 'What is the creation date of the file \"18_EstructurasDeDatos_4196.json\"?', 'a) 2024-08-21', 'b) 2024-08-25', 'c) 2024-07-25', 'd) 2024-09-25', '**Answer**: b) 2024-08-25', '**Question 8**', 'What is the weightage of the Proyecto diseño in the evaluation strategy?', 'a) 10%', 'b) 15%', 'c) 20%', 'd) 25%', '**Answer**: b) 15%', '**Question 9**', 'How many talleres are mentioned in the evaluation strategy?', 'a) 3', 'b) 4', 'c) 5', 'd) 6', '**Answer**: b) 4', '**Question 10**', 'What is the last modified date of the file \"18_EstructurasDeDatos_4196.json\"?', 'a) 2024-08-21', 'b) 2024-08-25', 'c) 2024-07-25', 'd) 2024-09-25', '**Answer**: a) 2024-08-21']\n"
     ]
    },
    {
     "name": "stderr",
     "output_type": "stream",
     "text": [
      "c:\\Users\\Luis Alejandro\\AppData\\Local\\Programs\\Python\\Python310\\lib\\site-packages\\llama_index\\core\\evaluation\\dataset_generation.py:296: DeprecationWarning: Call to deprecated class QueryResponseDataset. (Deprecated in favor of `LabelledRagDataset` which should be used instead.)\n",
      "  return QueryResponseDataset(queries=queries, responses=responses_dict)\n"
     ]
    }
   ],
   "source": [
    "eval_documents = documents[:3]\n",
    "data_generator = DatasetGenerator.from_documents(eval_documents)\n",
    "eval_questions = data_generator.generate_questions_from_nodes()\n",
    "\n",
    "print(eval_questions)"
   ]
  },
  {
   "cell_type": "markdown",
   "metadata": {},
   "source": [
    "Set up the evaluator"
   ]
  },
  {
   "cell_type": "code",
   "execution_count": 37,
   "metadata": {},
   "outputs": [],
   "source": [
    "from llama_index.core.evaluation import EvaluationResult\n",
    "\n",
    "# define jupyter display function\n",
    "def display_eval_df(response: Response, eval_result: EvaluationResult) -> None:\n",
    "    if response.source_nodes == []:\n",
    "        print(\"no response!\")\n",
    "        return\n",
    "    eval_df = pd.DataFrame(\n",
    "        {\n",
    "            \"Response\": str(response),\n",
    "            \"Source\": response.source_nodes[0].node.text[:1000] + \"...\",\n",
    "            \"Evaluation Result\": \"Pass\" if eval_result.passing else \"Fail\",\n",
    "            \"Reasoning\": eval_result.feedback,\n",
    "        },\n",
    "        index=[0],\n",
    "    )\n",
    "    eval_df = eval_df.style.set_properties(\n",
    "        **{\n",
    "            \"inline-size\": \"600px\",\n",
    "            \"overflow-wrap\": \"break-word\",\n",
    "        },\n",
    "        subset=[\"Response\", \"Source\"]\n",
    "    )\n",
    "    display(eval_df)"
   ]
  },
  {
   "cell_type": "code",
   "execution_count": 38,
   "metadata": {},
   "outputs": [],
   "source": [
    "evaluator = FaithfulnessEvaluator(llm=llm)"
   ]
  },
  {
   "cell_type": "markdown",
   "metadata": {},
   "source": [
    "Query the vector DB and evaluate the answers"
   ]
  },
  {
   "cell_type": "code",
   "execution_count": 39,
   "metadata": {},
   "outputs": [
    {
     "data": {
      "text/html": [
       "<style type=\"text/css\">\n",
       "#T_afbce_row0_col0, #T_afbce_row0_col1 {\n",
       "  inline-size: 600px;\n",
       "  overflow-wrap: break-word;\n",
       "}\n",
       "</style>\n",
       "<table id=\"T_afbce\">\n",
       "  <thead>\n",
       "    <tr>\n",
       "      <th class=\"blank level0\" >&nbsp;</th>\n",
       "      <th id=\"T_afbce_level0_col0\" class=\"col_heading level0 col0\" >Response</th>\n",
       "      <th id=\"T_afbce_level0_col1\" class=\"col_heading level0 col1\" >Source</th>\n",
       "      <th id=\"T_afbce_level0_col2\" class=\"col_heading level0 col2\" >Evaluation Result</th>\n",
       "      <th id=\"T_afbce_level0_col3\" class=\"col_heading level0 col3\" >Reasoning</th>\n",
       "    </tr>\n",
       "  </thead>\n",
       "  <tbody>\n",
       "    <tr>\n",
       "      <th id=\"T_afbce_level0_row0\" class=\"row_heading level0 row0\" >0</th>\n",
       "      <td id=\"T_afbce_row0_col0\" class=\"data row0 col0\" >The contents of Estructuras de datos are: Bases de complejidad algorítmica, Estructuras lineales, Estructuras recurrentes, and Estructuras no lineales.</td>\n",
       "      <td id=\"T_afbce_row0_col1\" class=\"data row0 col1\" >{\r\n",
       "    \"version\": \"1.0\",\r\n",
       "    \"last_updated\": \"2024-08-20\",\r\n",
       "    \"title\": \"18_EstructurasDeDatos_4196\",\r\n",
       "    \"description\": \"Syllabus de la materia 'EstructurasDeDatos' con código '4196'\",\r\n",
       "    \"access_control\": \"privado\",\r\n",
       "    \"content\": {\r\n",
       "        \"Nombre Corto de la Asignatura\": \"Estructuras de Datos\",\r\n",
       "        \"Nombre Largo de la Asignatura\": \"Estructuras de Datos\",\r\n",
       "        \"Código de la asignatura\": \"4196\",\r\n",
       "        \"Grado\": \"Pregrado\",\r\n",
       "        \"Descripción\": \"En la mayoría de los ambientes reales de desarrollo de software se procesan grandes cantidades de información, que está representada en datos que tienen sentido, secuencia y magnitud. Entonces, los correctos diseños e implementaciones de estructuras de datos y algoritmos son vitales para el funcionamiento adecuado de los sistemas de cómputo y almacenamiento en la vida real.\\n\\nEste curso se centra en el estudio de las estructuras contenedoras de datos básicas y los algoritmos relacionados con ellas, sin perder de vista su ...</td>\n",
       "      <td id=\"T_afbce_row0_col2\" class=\"data row0 col2\" >Pass</td>\n",
       "      <td id=\"T_afbce_row0_col3\" class=\"data row0 col3\" >YES</td>\n",
       "    </tr>\n",
       "  </tbody>\n",
       "</table>\n"
      ],
      "text/plain": [
       "<pandas.io.formats.style.Styler at 0x15496581930>"
      ]
     },
     "metadata": {},
     "output_type": "display_data"
    }
   ],
   "source": [
    "vector_index = VectorStoreIndex.from_documents(\n",
    "    eval_documents\n",
    ")\n",
    "query_engine = vector_index.as_query_engine(llm)\n",
    "\n",
    "response_vector = query_engine.query(\"Which are the contents of Estructuras de datos?\")\n",
    "eval_result = evaluator.evaluate_response(response=response_vector)\n",
    "display_eval_df(response_vector, eval_result)"
   ]
  }
 ],
 "metadata": {
  "kernelspec": {
   "display_name": "Python 3",
   "language": "python",
   "name": "python3"
  },
  "language_info": {
   "codemirror_mode": {
    "name": "ipython",
    "version": 3
   },
   "file_extension": ".py",
   "mimetype": "text/x-python",
   "name": "python",
   "nbconvert_exporter": "python",
   "pygments_lexer": "ipython3",
   "version": "3.10.4"
  }
 },
 "nbformat": 4,
 "nbformat_minor": 2
}
